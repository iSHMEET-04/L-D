{
  "nbformat": 4,
  "nbformat_minor": 0,
  "metadata": {
    "colab": {
      "provenance": []
    },
    "kernelspec": {
      "name": "python3",
      "display_name": "Python 3"
    },
    "language_info": {
      "name": "python"
    }
  },
  "cells": [
    {
      "cell_type": "code",
      "source": [
        "import numpy as np"
      ],
      "metadata": {
        "id": "L9_4IX5xvQA4"
      },
      "execution_count": 21,
      "outputs": []
    },
    {
      "cell_type": "code",
      "execution_count": 22,
      "metadata": {
        "colab": {
          "base_uri": "https://localhost:8080/"
        },
        "id": "r0EuFaZdui5D",
        "outputId": "83d047a2-c9bb-4f3d-c54a-e34eaad891c0"
      },
      "outputs": [
        {
          "output_type": "stream",
          "name": "stdout",
          "text": [
            "Element to add: 4\n",
            "[ 1  7  2  0 -1  4]\n"
          ]
        }
      ],
      "source": [
        "the_array= np.array([1,7,2,0,-1])\n",
        "\n",
        "#insert\n",
        "x= int(input('Element to add: '))\n",
        "the_array=np.append(the_array,x)\n",
        "print(the_array)\n",
        "\n",
        "\n"
      ]
    },
    {
      "cell_type": "code",
      "source": [
        "#delete\n",
        "y= int(input('Element to delete: '))\n",
        "the_array=the_array[the_array!=y]\n",
        "print(the_array)"
      ],
      "metadata": {
        "colab": {
          "base_uri": "https://localhost:8080/"
        },
        "id": "RuAe8PWAwbfX",
        "outputId": "344df967-ff91-4095-b2a5-f4b58c1b60eb"
      },
      "execution_count": 23,
      "outputs": [
        {
          "output_type": "stream",
          "name": "stdout",
          "text": [
            "Element to delete: 7\n",
            "[ 1  2  0 -1  4]\n"
          ]
        }
      ]
    },
    {
      "cell_type": "code",
      "source": [
        "maxx=np.max(the_array)\n",
        "minn=np.min(the_array)\n",
        "\n",
        "print(f'Maximum: {maxx}')\n",
        "print(f'Minimum: {minn}')\n"
      ],
      "metadata": {
        "colab": {
          "base_uri": "https://localhost:8080/"
        },
        "id": "ILXomukTwwFX",
        "outputId": "88f51975-9340-4e78-b515-f9b9da9a9229"
      },
      "execution_count": 24,
      "outputs": [
        {
          "output_type": "stream",
          "name": "stdout",
          "text": [
            "Maximum: 4\n",
            "Minimum: -1\n"
          ]
        }
      ]
    },
    {
      "cell_type": "code",
      "source": [
        "#reverse\n",
        "print(the_array[::-1])"
      ],
      "metadata": {
        "colab": {
          "base_uri": "https://localhost:8080/"
        },
        "id": "9GINP3ZPyzn8",
        "outputId": "b284ca61-f8b5-41f5-cb26-06fb9d6714ad"
      },
      "execution_count": 27,
      "outputs": [
        {
          "output_type": "stream",
          "name": "stdout",
          "text": [
            "[ 4 -1  0  2  1]\n"
          ]
        }
      ]
    },
    {
      "cell_type": "code",
      "source": [
        "#2nd largest\n",
        "sorted= np.sort(the_array)\n",
        "print(sorted)\n",
        "print(sorted[-2])"
      ],
      "metadata": {
        "colab": {
          "base_uri": "https://localhost:8080/"
        },
        "id": "moptmu_QzNkU",
        "outputId": "72b9a0b0-2180-4c65-a59f-4cc2cba7e5f1"
      },
      "execution_count": 31,
      "outputs": [
        {
          "output_type": "stream",
          "name": "stdout",
          "text": [
            "[-1  0  1  2  4]\n",
            "2\n"
          ]
        }
      ]
    },
    {
      "cell_type": "code",
      "source": [
        "#2D\n",
        "matrix1=np.array([[1,2,3],[4,5,6],[7,8,9]])\n",
        "print(matrix1)"
      ],
      "metadata": {
        "colab": {
          "base_uri": "https://localhost:8080/"
        },
        "id": "kUjzJCiGzrZD",
        "outputId": "e73d00dd-6615-4969-8d7c-7727127a8310"
      },
      "execution_count": 41,
      "outputs": [
        {
          "output_type": "stream",
          "name": "stdout",
          "text": [
            "[[1 2 3]\n",
            " [4 5 6]\n",
            " [7 8 9]]\n"
          ]
        }
      ]
    },
    {
      "cell_type": "code",
      "source": [
        "#operations\n",
        "\n",
        "matrix2=np.array([[7,3,9],[2,5,6],[8,1,-6]])\n",
        "addi=np.add(matrix1,matrix2)\n",
        "multi=np.multiply(matrix1,matrix2)\n",
        "matmulti=np.matmul(matrix1,matrix2)\n",
        "transpose1=np.transpose(matrix1)\n",
        "print(f'Addition:\\n {addi}')\n",
        "print(f'Multiply:\\n {multi}')\n",
        "print(f'Matrix Multiplication:\\n {matmulti}')\n",
        "print(f'Transpose of Matrix1:\\n {transpose1}')\n"
      ],
      "metadata": {
        "colab": {
          "base_uri": "https://localhost:8080/"
        },
        "id": "nSmBUQ-10MOD",
        "outputId": "1661e3c3-2f3c-4521-bfac-0b32249241a0"
      },
      "execution_count": 44,
      "outputs": [
        {
          "output_type": "stream",
          "name": "stdout",
          "text": [
            "Addition:\n",
            " [[ 8  5 12]\n",
            " [ 6 10 12]\n",
            " [15  9  3]]\n",
            "Multiply:\n",
            " [[  7   6  27]\n",
            " [  8  25  36]\n",
            " [ 56   8 -54]]\n",
            "Matrix Multiplication:\n",
            " [[ 35  16   3]\n",
            " [ 86  43  30]\n",
            " [137  70  57]]\n",
            "Transpose of Matrix1:\n",
            " [[1 4 7]\n",
            " [2 5 8]\n",
            " [3 6 9]]\n"
          ]
        }
      ]
    }
  ]
}